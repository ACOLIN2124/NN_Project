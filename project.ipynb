{
 "cells": [
  {
   "cell_type": "markdown",
   "metadata": {},
   "source": [
    "<center><img src=\"https://javier.rodriguez.org.mx/itesm/2014/tecnologico-de-monterrey-blue.png\" width=\"450\" align=\"center\"></center>\n",
    "<br><p><center><h1><b>Object Detection with Neural Network Appraoch: Analyzing the Stanford Cars Dataset</b></h1></center></p> \n",
    "<p><center><h3>Course: <i>Neural Network Design and Deep Learning</i></h3></center></p>\n",
    "<p><center><h4>Instructed by: <i>Dr. Leonardo Mauricio Cañete Sifuentes</i></h4></center></p> \n",
    "\n",
    "<p style=\"text-align: right;\">Alejandro Santiago Baca Eyssautier - A01656580</p> \n",
    "<p style=\"text-align: right;\">André Colín Avila - A01657474</p> \n",
    "<p style=\"text-align: right;\">Santiago Caballero - A01657699</p> \n",
    "<p style=\"text-align: right;\">November 28th, 2024</p><br>\n",
    "\n",
    "<br><p><h3> <b>1. Introduction</b></h3></p>\n",
    "\n",
    "The objective of this project is to explore object detection using neural networks by analyzing the **Stanford Cars Dataset**. This dataset is widely used for fine-grained visual categorization, making it an excellent choice for detecting and classifying cars into various categories based on their make, model, and year. \n",
    "\n",
    "Throughout this project, the team aims to preprocess the data, construct multiple neural network architectures, and evaluate their performance to identify the most efficient and accurate model. The project is divided into individual and team contributions, ensuring a collaborative yet personalized approach to model development.\n",
    "\n",
    "By leveraging deep learning techniques, the team seeks to tackle the challenges of detecting subtle differences between visually similar objects while maintaining computational efficiency.\n",
    "\n",
    "<br>\n",
    "\n",
    "<br><p><h3> <b>2. Dataset Selection and Justification</b></h3></p>\n",
    "\n",
    "**Dataset Description**\n",
    "\n",
    "The **Stanford Cars Dataset** consists of 16,185 images of cars categorized into 196 classes based on their make, model, and year. The dataset is split into 8,144 training images and 8,041 test images. It is commonly used for fine-grained image classification and object detection tasks.\n",
    "\n",
    "**Key Features:**\n",
    "\n",
    "- **High Resolution**: The images are provided in high resolution, enabling detailed feature extraction.\n",
    "- **Fine-Grained Categories**: With 196 classes, the dataset provides a challenging environment for distinguishing between visually similar classes.\n",
    "- **Annotations**: Bounding boxes and class labels are included, making it suitable for object detection and classification tasks.\n",
    "\n",
    "**Dataset Access:**\n",
    "\n",
    "- **Name**: Stanford Cars Dataset\n",
    "- **Download URL**: [Stanford Cars Dataset on Papers with Code](https://paperswithcode.com/dataset/stanford-cars)\n",
    "\n",
    "**Justification**  \n",
    "\n",
    "The Stanford Cars Dataset is an ideal choice for this project for several reasons:\n",
    "\n",
    "1. **Problem Relevance**: The dataset aligns with the team's objective of solving an object detection problem. Its detailed annotations support both object localization and classification tasks.\n",
    "2. **Complexity**: The fine-grained nature of the dataset presents a significant challenge, requiring advanced neural network architectures to achieve high performance.\n",
    "3. **Broad Applicability**: Insights gained from working on this dataset can be extended to other fine-grained object detection problems, such as species identification or defect detection in industrial processes.\n",
    "\n",
    "In summary, the Stanford Cars Dataset offers a robust platform for exploring neural network architectures and advancing the team's understanding of object detection challenges.\n",
    "\n",
    "<br>\n",
    "\n",
    "<br><p><h3> <b>3. Data Preprocessing and Splitting</b></h3></p>\n",
    "\n",
    "The dataset is loaded using the **Hugging Face `datasets` library**, which provides a convenient way to access and manipulate datasets. The **Stanford Cars Dataset** has predefined splits for training, testing, and several additional subsets with distortions such as noise and blur. \n",
    "\n",
    "The project focuses on the **training** and **test** splits for building and evaluating the models, with a portion of the training set used for validation.\n",
    "\n",
    "**Preprocessing Steps**\n",
    "\n",
    "1. **Image Resizing**: Images are resized to a fixed resolution ($224 \\times 224$) to ensure compatibility with deep learning models.\n",
    "2. **Normalization**: Pixel values are normalized to the range [0, 1] to stabilize the training process.\n",
    "3. **Data Augmentation**: Techniques such as flipping and rotation are applied to the training set to improve generalization.\n",
    "4. **Dataset Splitting**:\n",
    "   - The training set is further split into **training** (80%) and **validation** (20%) subsets for hyperparameter tuning and model evaluation."
   ]
  },
  {
   "cell_type": "code",
   "execution_count": null,
   "metadata": {
    "vscode": {
     "languageId": "plaintext"
    }
   },
   "outputs": [],
   "source": []
  }
 ],
 "metadata": {
  "language_info": {
   "name": "python"
  }
 },
 "nbformat": 4,
 "nbformat_minor": 2
}
